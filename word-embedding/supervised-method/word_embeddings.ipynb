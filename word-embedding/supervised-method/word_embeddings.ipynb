{
  "nbformat": 4,
  "nbformat_minor": 0,
  "metadata": {
    "colab": {
      "provenance": [],
      "gpuType": "T4"
    },
    "kernelspec": {
      "name": "python3",
      "display_name": "Python 3"
    },
    "language_info": {
      "name": "python"
    },
    "accelerator": "GPU"
  },
  "cells": [
    {
      "cell_type": "code",
      "execution_count": 2,
      "metadata": {
        "id": "qW02ZZ76fYpE"
      },
      "outputs": [],
      "source": [
        "import numpy as np\n",
        "from tensorflow.keras.preprocessing.text import one_hot\n",
        "from tensorflow.keras.preprocessing.sequence import pad_sequences\n",
        "from tensorflow.keras.models import Sequential\n",
        "from tensorflow.keras.layers import Dense\n",
        "from tensorflow.keras.layers import Flatten\n",
        "from tensorflow.keras.layers import Embedding\n",
        "\n",
        "reviews = ['nice food',\n",
        "        'amazing restaurant',\n",
        "        'too good',\n",
        "        'just loved it!',\n",
        "        'will go again',\n",
        "        'horrible food',\n",
        "        'never go there',\n",
        "        'poor service',\n",
        "        'poor quality',\n",
        "        'needs improvement']\n",
        "\n",
        "sentiment = np.array([1,1,1,1,1,0,0,0,0,0])"
      ]
    },
    {
      "cell_type": "code",
      "source": [
        "one_hot(\"amazing restaurant\",30)"
      ],
      "metadata": {
        "colab": {
          "base_uri": "https://localhost:8080/"
        },
        "id": "F_r2Byn0gPjg",
        "outputId": "3fe597a5-1e09-4cd4-da94-acf69f31c1fd"
      },
      "execution_count": 5,
      "outputs": [
        {
          "output_type": "execute_result",
          "data": {
            "text/plain": [
              "[20, 1]"
            ]
          },
          "metadata": {},
          "execution_count": 5
        }
      ]
    },
    {
      "cell_type": "code",
      "source": [
        "vocab_size = 30\n",
        "encoded_reviews = [one_hot(d, vocab_size) for d in reviews]\n",
        "encoded_reviews"
      ],
      "metadata": {
        "colab": {
          "base_uri": "https://localhost:8080/"
        },
        "id": "rFFqWk_ogj7p",
        "outputId": "65f419f0-0440-4ef2-aac9-127886b25dbe"
      },
      "execution_count": 8,
      "outputs": [
        {
          "output_type": "execute_result",
          "data": {
            "text/plain": [
              "[[16, 3],\n",
              " [20, 1],\n",
              " [24, 21],\n",
              " [7, 4, 9],\n",
              " [2, 5, 8],\n",
              " [23, 3],\n",
              " [3, 5, 21],\n",
              " [14, 24],\n",
              " [14, 27],\n",
              " [4, 8]]"
            ]
          },
          "metadata": {},
          "execution_count": 8
        }
      ]
    },
    {
      "cell_type": "code",
      "source": [
        "max_length = 3\n",
        "paded_reviews = pad_sequences(encoded_reviews, maxlen = max_length, padding='post')\n",
        "paded_reviews"
      ],
      "metadata": {
        "colab": {
          "base_uri": "https://localhost:8080/"
        },
        "id": "SxmiJ93Sg7is",
        "outputId": "9b8cbeb1-bb4e-4b42-8221-acd1f8603322"
      },
      "execution_count": 10,
      "outputs": [
        {
          "output_type": "execute_result",
          "data": {
            "text/plain": [
              "array([[16,  3,  0],\n",
              "       [20,  1,  0],\n",
              "       [24, 21,  0],\n",
              "       [ 7,  4,  9],\n",
              "       [ 2,  5,  8],\n",
              "       [23,  3,  0],\n",
              "       [ 3,  5, 21],\n",
              "       [14, 24,  0],\n",
              "       [14, 27,  0],\n",
              "       [ 4,  8,  0]], dtype=int32)"
            ]
          },
          "metadata": {},
          "execution_count": 10
        }
      ]
    },
    {
      "cell_type": "code",
      "source": [
        "embeded_vector_size = 5\n",
        "\n",
        "model = Sequential()\n",
        "model.add(Embedding(vocab_size, embeded_vector_size, input_length = max_length, name = \"embedding\"))\n",
        "model.add(Flatten())\n",
        "model.add(Dense(1, activation='sigmoid'))"
      ],
      "metadata": {
        "id": "9eWZGfIChlCC"
      },
      "execution_count": 13,
      "outputs": []
    },
    {
      "cell_type": "code",
      "source": [
        "X = paded_reviews\n",
        "y = sentiment"
      ],
      "metadata": {
        "id": "dKC1yaC3h3-V"
      },
      "execution_count": 14,
      "outputs": []
    },
    {
      "cell_type": "code",
      "source": [
        " model.compile(\n",
        "    optimizer='adam',\n",
        "    loss='binary_crossentropy',\n",
        "    metrics=['accuracy']\n",
        " )"
      ],
      "metadata": {
        "id": "96jKoehdjfod"
      },
      "execution_count": 15,
      "outputs": []
    },
    {
      "cell_type": "code",
      "source": [
        "model.summary()"
      ],
      "metadata": {
        "colab": {
          "base_uri": "https://localhost:8080/"
        },
        "id": "3iX2BqGij2BD",
        "outputId": "6b6faf10-a3f8-403c-da01-753ef410c9a5"
      },
      "execution_count": 16,
      "outputs": [
        {
          "output_type": "stream",
          "name": "stdout",
          "text": [
            "Model: \"sequential_2\"\n",
            "_________________________________________________________________\n",
            " Layer (type)                Output Shape              Param #   \n",
            "=================================================================\n",
            " embedding (Embedding)       (None, 3, 5)              150       \n",
            "                                                                 \n",
            " flatten (Flatten)           (None, 15)                0         \n",
            "                                                                 \n",
            " dense (Dense)               (None, 1)                 16        \n",
            "                                                                 \n",
            "=================================================================\n",
            "Total params: 166 (664.00 Byte)\n",
            "Trainable params: 166 (664.00 Byte)\n",
            "Non-trainable params: 0 (0.00 Byte)\n",
            "_________________________________________________________________\n"
          ]
        }
      ]
    },
    {
      "cell_type": "code",
      "source": [
        "model.fit(X, y, epochs=50, verbose=0)"
      ],
      "metadata": {
        "colab": {
          "base_uri": "https://localhost:8080/"
        },
        "id": "ldg4CMS0j41d",
        "outputId": "16101a60-37b1-4149-bf86-e3844abed3c2"
      },
      "execution_count": 17,
      "outputs": [
        {
          "output_type": "execute_result",
          "data": {
            "text/plain": [
              "<keras.src.callbacks.History at 0x7d7af2d56020>"
            ]
          },
          "metadata": {},
          "execution_count": 17
        }
      ]
    },
    {
      "cell_type": "code",
      "source": [
        "loss, accuracy = model.evaluate(X,y)\n",
        "accuracy"
      ],
      "metadata": {
        "colab": {
          "base_uri": "https://localhost:8080/"
        },
        "id": "bTa78mx4kRU0",
        "outputId": "27932873-98e7-4400-9a64-0b49d3d0c980"
      },
      "execution_count": 19,
      "outputs": [
        {
          "output_type": "stream",
          "name": "stdout",
          "text": [
            "1/1 [==============================] - 0s 24ms/step - loss: 0.6297 - accuracy: 1.0000\n"
          ]
        },
        {
          "output_type": "execute_result",
          "data": {
            "text/plain": [
              "1.0"
            ]
          },
          "metadata": {},
          "execution_count": 19
        }
      ]
    },
    {
      "cell_type": "code",
      "source": [
        "model.get_layer('embedding').get_weights()[0]"
      ],
      "metadata": {
        "colab": {
          "base_uri": "https://localhost:8080/"
        },
        "id": "Dn100ksDkbFz",
        "outputId": "cc9f870a-9763-47be-9807-f12505c55db1"
      },
      "execution_count": 20,
      "outputs": [
        {
          "output_type": "execute_result",
          "data": {
            "text/plain": [
              "array([[ 0.09342737,  0.09291108,  0.03036971, -0.00969615, -0.05964839],\n",
              "       [-0.07634741, -0.06868006, -0.00936305,  0.09321675, -0.00187345],\n",
              "       [-0.06372476,  0.00520382, -0.04531765, -0.10054096, -0.00562558],\n",
              "       [ 0.03282985, -0.04516471,  0.07938059,  0.10100482,  0.048384  ],\n",
              "       [ 0.03532971, -0.09895296, -0.03288458,  0.00101786, -0.04138849],\n",
              "       [ 0.032402  ,  0.02314623, -0.02035825, -0.04347807,  0.01843843],\n",
              "       [ 0.01436856, -0.0070797 , -0.02051631, -0.01188214,  0.04203484],\n",
              "       [-0.00638219,  0.00810039, -0.00811588, -0.07487875, -0.09488289],\n",
              "       [ 0.02334901,  0.01708988,  0.09682509, -0.02184908,  0.057929  ],\n",
              "       [-0.04663461, -0.01531815, -0.0085336 ,  0.07508282,  0.03144449],\n",
              "       [ 0.02893623,  0.04476497, -0.02624821, -0.04249216, -0.02921681],\n",
              "       [-0.00826418, -0.03195257, -0.02750131,  0.04009842, -0.01107594],\n",
              "       [ 0.01193165,  0.04443915,  0.02404107,  0.00602882,  0.01397561],\n",
              "       [-0.02054503,  0.00111163,  0.00130123,  0.02049783,  0.04907414],\n",
              "       [ 0.09260448, -0.03191417,  0.08160075,  0.09610203,  0.05179986],\n",
              "       [ 0.00889558, -0.02755016, -0.03855615,  0.02687678,  0.04940588],\n",
              "       [-0.06160221,  0.09136118, -0.06831039, -0.04288852, -0.09215659],\n",
              "       [-0.04982997, -0.04930644, -0.04546462, -0.0022285 , -0.02824899],\n",
              "       [ 0.01605867,  0.03068253,  0.00043684,  0.03955834, -0.03220002],\n",
              "       [-0.00519123, -0.00207943,  0.04244632, -0.01315869,  0.01082607],\n",
              "       [-0.03656122,  0.06958515, -0.02920083, -0.02882858, -0.01525204],\n",
              "       [-0.07057174, -0.01165404, -0.02673406,  0.0316878 , -0.04203871],\n",
              "       [ 0.04653484,  0.02207475,  0.0310236 ,  0.02132517, -0.00158213],\n",
              "       [ 0.01135737, -0.07483593,  0.06092025,  0.01513566,  0.04713611],\n",
              "       [-0.09212652,  0.07685799, -0.03446085, -0.02098008,  0.08064768],\n",
              "       [ 0.03924184, -0.00489417,  0.01171003, -0.01885294, -0.02914903],\n",
              "       [ 0.0043259 , -0.04302138,  0.04168871, -0.0118705 ,  0.01689998],\n",
              "       [ 0.01195506,  0.01535985,  0.0287314 , -0.00933724,  0.00329058],\n",
              "       [ 0.03118611, -0.02844533, -0.00319641, -0.00435785,  0.00571784],\n",
              "       [ 0.04572271, -0.04043292, -0.03634628,  0.04997599,  0.01789982]],\n",
              "      dtype=float32)"
            ]
          },
          "metadata": {},
          "execution_count": 20
        }
      ]
    },
    {
      "cell_type": "code",
      "source": [
        "weights = model.get_layer('embedding').get_weights()[0]\n",
        "len(weights)"
      ],
      "metadata": {
        "colab": {
          "base_uri": "https://localhost:8080/"
        },
        "id": "22mplFJakwyW",
        "outputId": "13c656d9-f60e-4f15-ba50-ea3190b2fd62"
      },
      "execution_count": 21,
      "outputs": [
        {
          "output_type": "execute_result",
          "data": {
            "text/plain": [
              "30"
            ]
          },
          "metadata": {},
          "execution_count": 21
        }
      ]
    },
    {
      "cell_type": "code",
      "source": [
        "weights[16]"
      ],
      "metadata": {
        "colab": {
          "base_uri": "https://localhost:8080/"
        },
        "id": "3WPHPJf_k-8e",
        "outputId": "ffe386c2-6df8-4c84-f5a6-c0946e303238"
      },
      "execution_count": 22,
      "outputs": [
        {
          "output_type": "execute_result",
          "data": {
            "text/plain": [
              "array([-0.06160221,  0.09136118, -0.06831039, -0.04288852, -0.09215659],\n",
              "      dtype=float32)"
            ]
          },
          "metadata": {},
          "execution_count": 22
        }
      ]
    },
    {
      "cell_type": "code",
      "source": [
        "weights[20]"
      ],
      "metadata": {
        "colab": {
          "base_uri": "https://localhost:8080/"
        },
        "id": "VuuysyoclPT0",
        "outputId": "f4911bd6-42f4-4d0a-dbe3-0863fb5237ca"
      },
      "execution_count": 23,
      "outputs": [
        {
          "output_type": "execute_result",
          "data": {
            "text/plain": [
              "array([-0.03656122,  0.06958515, -0.02920083, -0.02882858, -0.01525204],\n",
              "      dtype=float32)"
            ]
          },
          "metadata": {},
          "execution_count": 23
        }
      ]
    }
  ]
}